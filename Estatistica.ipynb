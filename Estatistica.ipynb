{
  "nbformat": 4,
  "nbformat_minor": 0,
  "metadata": {
    "colab": {
      "provenance": [],
      "include_colab_link": true
    },
    "kernelspec": {
      "name": "python3",
      "display_name": "Python 3"
    },
    "language_info": {
      "name": "python"
    }
  },
  "cells": [
    {
      "cell_type": "markdown",
      "metadata": {
        "id": "view-in-github",
        "colab_type": "text"
      },
      "source": [
        "<a href=\"https://colab.research.google.com/github/Henriquedelira/estatistica1/blob/main/Estatistica.ipynb\" target=\"_parent\"><img src=\"https://colab.research.google.com/assets/colab-badge.svg\" alt=\"Open In Colab\"/></a>"
      ]
    },
    {
      "cell_type": "markdown",
      "source": [
        "#**Projeto Estatística - ADA**\n",
        "\n",
        "## **Aluno: Henrique Santos de Lira N° 1116018**\n"
      ],
      "metadata": {
        "id": "bTomRNV9E19R"
      }
    },
    {
      "cell_type": "markdown",
      "source": [
        "## Objetivo:\n",
        "\n",
        "Entender se o peso de um diamante está associado ao seu preço.\n",
        "\n",
        "Hipótese: Quanto maior mais caro?"
      ],
      "metadata": {
        "id": "dhuPQ3TiFBRv"
      }
    },
    {
      "cell_type": "markdown",
      "source": [
        "## Base de Dados\n",
        "\n",
        "Será utilizado um conjunto de dados público referente a diamantes, que contém informações detalhadas sobre cada diamante, incluindo características como peso, qualidade do corte, cor, clareza e dimensões físicas. Esses dados nos fornecem insights sobre a qualidade e valor dos diamantes com base em suas características intrínsecas."
      ],
      "metadata": {
        "id": "gPUPxwXqFEIp"
      }
    },
    {
      "cell_type": "markdown",
      "source": [
        "## Motivação\n",
        "\n",
        "Este projeto visa identificar as estatísticas descritivas, entender as possíveis distribuições, interpretar as correlações entre as variáveis quantitativas e explorar um teste de hipótese que possa avaliar se há variação no preço dos diamantes em função de outra variável a ser escolhida."
      ],
      "metadata": {
        "id": "8Y5dBcfvFELd"
      }
    },
    {
      "cell_type": "markdown",
      "source": [
        "# Ferramentas\n",
        "\n",
        "Seaborn, Pandas, NumPy e Matplotlib."
      ],
      "metadata": {
        "id": "KyYw6RvvFEQ9"
      }
    },
    {
      "cell_type": "markdown",
      "source": [
        "# Importação das Bibliotecas\n",
        "\n",
        "Faremos a importação das seguintes bibliotecas:\n",
        "\n",
        "**Seaborn** - Utilizado para criação de visualizações estatísticas complexas e informativas, que são úteis para explorar e comunicar padrões nos dados.\n",
        "\n",
        "**Pandas** - Importamos com o alias pd para carregar, manipular e analisar dados tabulares.\n",
        "\n",
        "**NumPy** - Importamos com o alias np para aproveitar suas funções matemáticas e operações de matriz.\n",
        "\n",
        "**Matplotlib** - Utilizado para a criação de visualizações de alta qualidade, como gráficos, histogramas, diagramas de dispersão e muito mais.\n"
      ],
      "metadata": {
        "id": "lgiztcVxFKBJ"
      }
    },
    {
      "cell_type": "code",
      "source": [
        "import numpy as np\n",
        "import pandas as pd\n",
        "import seaborn as sns\n",
        "import matplotlib.pyplot as plt\n",
        "from scipy.stats import pearsonr"
      ],
      "metadata": {
        "id": "yajLweXvEzoX"
      },
      "execution_count": null,
      "outputs": []
    },
    {
      "cell_type": "markdown",
      "source": [
        "#Base de Dados utilizada:\n",
        "\n",
        "Visualizados atráves do código abaixo os datasets disponíveis na biblioteca Seaborn."
      ],
      "metadata": {
        "id": "9FdkdDhvKKvy"
      }
    },
    {
      "cell_type": "code",
      "source": [
        "datasets = sns.get_dataset_names()\n",
        "print(datasets)"
      ],
      "metadata": {
        "colab": {
          "base_uri": "https://localhost:8080/"
        },
        "id": "443wxF6GFOQs",
        "outputId": "e9252bc7-ac7c-4253-e0f1-c1afce4f7264"
      },
      "execution_count": null,
      "outputs": [
        {
          "output_type": "stream",
          "name": "stdout",
          "text": [
            "['anagrams', 'anscombe', 'attention', 'brain_networks', 'car_crashes', 'diamonds', 'dots', 'dowjones', 'exercise', 'flights', 'fmri', 'geyser', 'glue', 'healthexp', 'iris', 'mpg', 'penguins', 'planets', 'seaice', 'taxis', 'tips', 'titanic']\n"
          ]
        }
      ]
    },
    {
      "cell_type": "markdown",
      "source": [
        "Com base nos dados disponíveis, foi escolhido o dataset Diamonds que apresenta uma gama enorme de informações sobre o preço, tamanho entre outras informações sobre Diamantes comercializados no mundo."
      ],
      "metadata": {
        "id": "MRgZviRVKg9E"
      }
    },
    {
      "cell_type": "code",
      "source": [
        "diamonds = sns.load_dataset('diamonds')"
      ],
      "metadata": {
        "id": "5imj29TfF9xK"
      },
      "execution_count": null,
      "outputs": []
    },
    {
      "cell_type": "markdown",
      "source": [
        "Visualizando o tamanho do dataset através da função shape."
      ],
      "metadata": {
        "id": "Q-7f2IeuKvTt"
      }
    },
    {
      "cell_type": "code",
      "source": [
        "diamonds.shape"
      ],
      "metadata": {
        "colab": {
          "base_uri": "https://localhost:8080/"
        },
        "id": "O729WvlgGf47",
        "outputId": "5803a5d2-93fa-4be9-e92f-3bbf43407ceb"
      },
      "execution_count": null,
      "outputs": [
        {
          "output_type": "execute_result",
          "data": {
            "text/plain": [
              "(53940, 10)"
            ]
          },
          "metadata": {},
          "execution_count": 4
        }
      ]
    },
    {
      "cell_type": "markdown",
      "source": [
        "Identificado que o dataset, possui mais de 50mil registros distribuidos em 10 colunas."
      ],
      "metadata": {
        "id": "z9fv2KHdLA7u"
      }
    },
    {
      "cell_type": "markdown",
      "source": [
        "Agora rodaremos a função info() para identificar as colunas disponíveis no dataset e também identificar se possui algum registro nulo."
      ],
      "metadata": {
        "id": "08alkq1wLGuI"
      }
    },
    {
      "cell_type": "code",
      "source": [
        "diamonds.info()"
      ],
      "metadata": {
        "colab": {
          "base_uri": "https://localhost:8080/"
        },
        "id": "VHwYEGGSGXUO",
        "outputId": "418760ae-8258-42fe-86b2-2ac7650563e1"
      },
      "execution_count": null,
      "outputs": [
        {
          "output_type": "stream",
          "name": "stdout",
          "text": [
            "<class 'pandas.core.frame.DataFrame'>\n",
            "RangeIndex: 53940 entries, 0 to 53939\n",
            "Data columns (total 10 columns):\n",
            " #   Column   Non-Null Count  Dtype   \n",
            "---  ------   --------------  -----   \n",
            " 0   carat    53940 non-null  float64 \n",
            " 1   cut      53940 non-null  category\n",
            " 2   color    53940 non-null  category\n",
            " 3   clarity  53940 non-null  category\n",
            " 4   depth    53940 non-null  float64 \n",
            " 5   table    53940 non-null  float64 \n",
            " 6   price    53940 non-null  int64   \n",
            " 7   x        53940 non-null  float64 \n",
            " 8   y        53940 non-null  float64 \n",
            " 9   z        53940 non-null  float64 \n",
            "dtypes: category(3), float64(6), int64(1)\n",
            "memory usage: 3.0 MB\n"
          ]
        }
      ]
    },
    {
      "cell_type": "code",
      "source": [
        "diamonds.columns"
      ],
      "metadata": {
        "colab": {
          "base_uri": "https://localhost:8080/"
        },
        "id": "r46SXfOSNTUq",
        "outputId": "81872404-f6a6-4105-8890-c6f6f24caa4a"
      },
      "execution_count": null,
      "outputs": [
        {
          "output_type": "execute_result",
          "data": {
            "text/plain": [
              "Index(['carat', 'cut', 'color', 'clarity', 'depth', 'table', 'price', 'x', 'y',\n",
              "       'z'],\n",
              "      dtype='object')"
            ]
          },
          "metadata": {},
          "execution_count": 6
        }
      ]
    },
    {
      "cell_type": "markdown",
      "source": [
        "Foram identificadas as colunas:\n",
        "\n",
        "**carat**: Peso do diamante em quilates (variável numérica).\n",
        "\n",
        "**cut**: Qualidade do corte do diamante.\n",
        "\n",
        "**color**: Cor do diamante.\n",
        "\n",
        "**clarity**: Clareza do diamante.\n",
        "\n",
        "**depth**: Profundidade total do diamante em percentual (variável numérica).\n",
        "\n",
        "**table**: Largura do topo do diamante em relação à parte mais larga (variável numérica).\n",
        "\n",
        "**price**: Preço em dólares do diamante (variável numérica).\n",
        "\n",
        "**x**: Comprimento em mm (variável numérica).\n",
        "\n",
        "**y**: Largura em mm (variável numérica).\n",
        "\n",
        "**z**: Profundidade em mm (variável numérica)."
      ],
      "metadata": {
        "id": "0kIi3PYuLRn4"
      }
    },
    {
      "cell_type": "markdown",
      "source": [
        "**Visualizando os dados do dataframe**"
      ],
      "metadata": {
        "id": "Unxl7luVMICv"
      }
    },
    {
      "cell_type": "code",
      "source": [
        "diamonds.head()"
      ],
      "metadata": {
        "colab": {
          "base_uri": "https://localhost:8080/",
          "height": 206
        },
        "id": "0xjqzYmYGbVE",
        "outputId": "da8780f1-54af-495f-9224-0eba0f80e455"
      },
      "execution_count": null,
      "outputs": [
        {
          "output_type": "execute_result",
          "data": {
            "text/plain": [
              "   carat      cut color clarity  depth  table  price     x     y     z\n",
              "0   0.23    Ideal     E     SI2   61.5   55.0    326  3.95  3.98  2.43\n",
              "1   0.21  Premium     E     SI1   59.8   61.0    326  3.89  3.84  2.31\n",
              "2   0.23     Good     E     VS1   56.9   65.0    327  4.05  4.07  2.31\n",
              "3   0.29  Premium     I     VS2   62.4   58.0    334  4.20  4.23  2.63\n",
              "4   0.31     Good     J     SI2   63.3   58.0    335  4.34  4.35  2.75"
            ],
            "text/html": [
              "\n",
              "  <div id=\"df-142494af-4e0e-4d25-bc2c-d17990510806\" class=\"colab-df-container\">\n",
              "    <div>\n",
              "<style scoped>\n",
              "    .dataframe tbody tr th:only-of-type {\n",
              "        vertical-align: middle;\n",
              "    }\n",
              "\n",
              "    .dataframe tbody tr th {\n",
              "        vertical-align: top;\n",
              "    }\n",
              "\n",
              "    .dataframe thead th {\n",
              "        text-align: right;\n",
              "    }\n",
              "</style>\n",
              "<table border=\"1\" class=\"dataframe\">\n",
              "  <thead>\n",
              "    <tr style=\"text-align: right;\">\n",
              "      <th></th>\n",
              "      <th>carat</th>\n",
              "      <th>cut</th>\n",
              "      <th>color</th>\n",
              "      <th>clarity</th>\n",
              "      <th>depth</th>\n",
              "      <th>table</th>\n",
              "      <th>price</th>\n",
              "      <th>x</th>\n",
              "      <th>y</th>\n",
              "      <th>z</th>\n",
              "    </tr>\n",
              "  </thead>\n",
              "  <tbody>\n",
              "    <tr>\n",
              "      <th>0</th>\n",
              "      <td>0.23</td>\n",
              "      <td>Ideal</td>\n",
              "      <td>E</td>\n",
              "      <td>SI2</td>\n",
              "      <td>61.5</td>\n",
              "      <td>55.0</td>\n",
              "      <td>326</td>\n",
              "      <td>3.95</td>\n",
              "      <td>3.98</td>\n",
              "      <td>2.43</td>\n",
              "    </tr>\n",
              "    <tr>\n",
              "      <th>1</th>\n",
              "      <td>0.21</td>\n",
              "      <td>Premium</td>\n",
              "      <td>E</td>\n",
              "      <td>SI1</td>\n",
              "      <td>59.8</td>\n",
              "      <td>61.0</td>\n",
              "      <td>326</td>\n",
              "      <td>3.89</td>\n",
              "      <td>3.84</td>\n",
              "      <td>2.31</td>\n",
              "    </tr>\n",
              "    <tr>\n",
              "      <th>2</th>\n",
              "      <td>0.23</td>\n",
              "      <td>Good</td>\n",
              "      <td>E</td>\n",
              "      <td>VS1</td>\n",
              "      <td>56.9</td>\n",
              "      <td>65.0</td>\n",
              "      <td>327</td>\n",
              "      <td>4.05</td>\n",
              "      <td>4.07</td>\n",
              "      <td>2.31</td>\n",
              "    </tr>\n",
              "    <tr>\n",
              "      <th>3</th>\n",
              "      <td>0.29</td>\n",
              "      <td>Premium</td>\n",
              "      <td>I</td>\n",
              "      <td>VS2</td>\n",
              "      <td>62.4</td>\n",
              "      <td>58.0</td>\n",
              "      <td>334</td>\n",
              "      <td>4.20</td>\n",
              "      <td>4.23</td>\n",
              "      <td>2.63</td>\n",
              "    </tr>\n",
              "    <tr>\n",
              "      <th>4</th>\n",
              "      <td>0.31</td>\n",
              "      <td>Good</td>\n",
              "      <td>J</td>\n",
              "      <td>SI2</td>\n",
              "      <td>63.3</td>\n",
              "      <td>58.0</td>\n",
              "      <td>335</td>\n",
              "      <td>4.34</td>\n",
              "      <td>4.35</td>\n",
              "      <td>2.75</td>\n",
              "    </tr>\n",
              "  </tbody>\n",
              "</table>\n",
              "</div>\n",
              "    <div class=\"colab-df-buttons\">\n",
              "\n",
              "  <div class=\"colab-df-container\">\n",
              "    <button class=\"colab-df-convert\" onclick=\"convertToInteractive('df-142494af-4e0e-4d25-bc2c-d17990510806')\"\n",
              "            title=\"Convert this dataframe to an interactive table.\"\n",
              "            style=\"display:none;\">\n",
              "\n",
              "  <svg xmlns=\"http://www.w3.org/2000/svg\" height=\"24px\" viewBox=\"0 -960 960 960\">\n",
              "    <path d=\"M120-120v-720h720v720H120Zm60-500h600v-160H180v160Zm220 220h160v-160H400v160Zm0 220h160v-160H400v160ZM180-400h160v-160H180v160Zm440 0h160v-160H620v160ZM180-180h160v-160H180v160Zm440 0h160v-160H620v160Z\"/>\n",
              "  </svg>\n",
              "    </button>\n",
              "\n",
              "  <style>\n",
              "    .colab-df-container {\n",
              "      display:flex;\n",
              "      gap: 12px;\n",
              "    }\n",
              "\n",
              "    .colab-df-convert {\n",
              "      background-color: #E8F0FE;\n",
              "      border: none;\n",
              "      border-radius: 50%;\n",
              "      cursor: pointer;\n",
              "      display: none;\n",
              "      fill: #1967D2;\n",
              "      height: 32px;\n",
              "      padding: 0 0 0 0;\n",
              "      width: 32px;\n",
              "    }\n",
              "\n",
              "    .colab-df-convert:hover {\n",
              "      background-color: #E2EBFA;\n",
              "      box-shadow: 0px 1px 2px rgba(60, 64, 67, 0.3), 0px 1px 3px 1px rgba(60, 64, 67, 0.15);\n",
              "      fill: #174EA6;\n",
              "    }\n",
              "\n",
              "    .colab-df-buttons div {\n",
              "      margin-bottom: 4px;\n",
              "    }\n",
              "\n",
              "    [theme=dark] .colab-df-convert {\n",
              "      background-color: #3B4455;\n",
              "      fill: #D2E3FC;\n",
              "    }\n",
              "\n",
              "    [theme=dark] .colab-df-convert:hover {\n",
              "      background-color: #434B5C;\n",
              "      box-shadow: 0px 1px 3px 1px rgba(0, 0, 0, 0.15);\n",
              "      filter: drop-shadow(0px 1px 2px rgba(0, 0, 0, 0.3));\n",
              "      fill: #FFFFFF;\n",
              "    }\n",
              "  </style>\n",
              "\n",
              "    <script>\n",
              "      const buttonEl =\n",
              "        document.querySelector('#df-142494af-4e0e-4d25-bc2c-d17990510806 button.colab-df-convert');\n",
              "      buttonEl.style.display =\n",
              "        google.colab.kernel.accessAllowed ? 'block' : 'none';\n",
              "\n",
              "      async function convertToInteractive(key) {\n",
              "        const element = document.querySelector('#df-142494af-4e0e-4d25-bc2c-d17990510806');\n",
              "        const dataTable =\n",
              "          await google.colab.kernel.invokeFunction('convertToInteractive',\n",
              "                                                    [key], {});\n",
              "        if (!dataTable) return;\n",
              "\n",
              "        const docLinkHtml = 'Like what you see? Visit the ' +\n",
              "          '<a target=\"_blank\" href=https://colab.research.google.com/notebooks/data_table.ipynb>data table notebook</a>'\n",
              "          + ' to learn more about interactive tables.';\n",
              "        element.innerHTML = '';\n",
              "        dataTable['output_type'] = 'display_data';\n",
              "        await google.colab.output.renderOutput(dataTable, element);\n",
              "        const docLink = document.createElement('div');\n",
              "        docLink.innerHTML = docLinkHtml;\n",
              "        element.appendChild(docLink);\n",
              "      }\n",
              "    </script>\n",
              "  </div>\n",
              "\n",
              "\n",
              "<div id=\"df-7d132f14-1769-40da-9fc0-8795e116ed4a\">\n",
              "  <button class=\"colab-df-quickchart\" onclick=\"quickchart('df-7d132f14-1769-40da-9fc0-8795e116ed4a')\"\n",
              "            title=\"Suggest charts\"\n",
              "            style=\"display:none;\">\n",
              "\n",
              "<svg xmlns=\"http://www.w3.org/2000/svg\" height=\"24px\"viewBox=\"0 0 24 24\"\n",
              "     width=\"24px\">\n",
              "    <g>\n",
              "        <path d=\"M19 3H5c-1.1 0-2 .9-2 2v14c0 1.1.9 2 2 2h14c1.1 0 2-.9 2-2V5c0-1.1-.9-2-2-2zM9 17H7v-7h2v7zm4 0h-2V7h2v10zm4 0h-2v-4h2v4z\"/>\n",
              "    </g>\n",
              "</svg>\n",
              "  </button>\n",
              "\n",
              "<style>\n",
              "  .colab-df-quickchart {\n",
              "      --bg-color: #E8F0FE;\n",
              "      --fill-color: #1967D2;\n",
              "      --hover-bg-color: #E2EBFA;\n",
              "      --hover-fill-color: #174EA6;\n",
              "      --disabled-fill-color: #AAA;\n",
              "      --disabled-bg-color: #DDD;\n",
              "  }\n",
              "\n",
              "  [theme=dark] .colab-df-quickchart {\n",
              "      --bg-color: #3B4455;\n",
              "      --fill-color: #D2E3FC;\n",
              "      --hover-bg-color: #434B5C;\n",
              "      --hover-fill-color: #FFFFFF;\n",
              "      --disabled-bg-color: #3B4455;\n",
              "      --disabled-fill-color: #666;\n",
              "  }\n",
              "\n",
              "  .colab-df-quickchart {\n",
              "    background-color: var(--bg-color);\n",
              "    border: none;\n",
              "    border-radius: 50%;\n",
              "    cursor: pointer;\n",
              "    display: none;\n",
              "    fill: var(--fill-color);\n",
              "    height: 32px;\n",
              "    padding: 0;\n",
              "    width: 32px;\n",
              "  }\n",
              "\n",
              "  .colab-df-quickchart:hover {\n",
              "    background-color: var(--hover-bg-color);\n",
              "    box-shadow: 0 1px 2px rgba(60, 64, 67, 0.3), 0 1px 3px 1px rgba(60, 64, 67, 0.15);\n",
              "    fill: var(--button-hover-fill-color);\n",
              "  }\n",
              "\n",
              "  .colab-df-quickchart-complete:disabled,\n",
              "  .colab-df-quickchart-complete:disabled:hover {\n",
              "    background-color: var(--disabled-bg-color);\n",
              "    fill: var(--disabled-fill-color);\n",
              "    box-shadow: none;\n",
              "  }\n",
              "\n",
              "  .colab-df-spinner {\n",
              "    border: 2px solid var(--fill-color);\n",
              "    border-color: transparent;\n",
              "    border-bottom-color: var(--fill-color);\n",
              "    animation:\n",
              "      spin 1s steps(1) infinite;\n",
              "  }\n",
              "\n",
              "  @keyframes spin {\n",
              "    0% {\n",
              "      border-color: transparent;\n",
              "      border-bottom-color: var(--fill-color);\n",
              "      border-left-color: var(--fill-color);\n",
              "    }\n",
              "    20% {\n",
              "      border-color: transparent;\n",
              "      border-left-color: var(--fill-color);\n",
              "      border-top-color: var(--fill-color);\n",
              "    }\n",
              "    30% {\n",
              "      border-color: transparent;\n",
              "      border-left-color: var(--fill-color);\n",
              "      border-top-color: var(--fill-color);\n",
              "      border-right-color: var(--fill-color);\n",
              "    }\n",
              "    40% {\n",
              "      border-color: transparent;\n",
              "      border-right-color: var(--fill-color);\n",
              "      border-top-color: var(--fill-color);\n",
              "    }\n",
              "    60% {\n",
              "      border-color: transparent;\n",
              "      border-right-color: var(--fill-color);\n",
              "    }\n",
              "    80% {\n",
              "      border-color: transparent;\n",
              "      border-right-color: var(--fill-color);\n",
              "      border-bottom-color: var(--fill-color);\n",
              "    }\n",
              "    90% {\n",
              "      border-color: transparent;\n",
              "      border-bottom-color: var(--fill-color);\n",
              "    }\n",
              "  }\n",
              "</style>\n",
              "\n",
              "  <script>\n",
              "    async function quickchart(key) {\n",
              "      const quickchartButtonEl =\n",
              "        document.querySelector('#' + key + ' button');\n",
              "      quickchartButtonEl.disabled = true;  // To prevent multiple clicks.\n",
              "      quickchartButtonEl.classList.add('colab-df-spinner');\n",
              "      try {\n",
              "        const charts = await google.colab.kernel.invokeFunction(\n",
              "            'suggestCharts', [key], {});\n",
              "      } catch (error) {\n",
              "        console.error('Error during call to suggestCharts:', error);\n",
              "      }\n",
              "      quickchartButtonEl.classList.remove('colab-df-spinner');\n",
              "      quickchartButtonEl.classList.add('colab-df-quickchart-complete');\n",
              "    }\n",
              "    (() => {\n",
              "      let quickchartButtonEl =\n",
              "        document.querySelector('#df-7d132f14-1769-40da-9fc0-8795e116ed4a button');\n",
              "      quickchartButtonEl.style.display =\n",
              "        google.colab.kernel.accessAllowed ? 'block' : 'none';\n",
              "    })();\n",
              "  </script>\n",
              "</div>\n",
              "    </div>\n",
              "  </div>\n"
            ],
            "application/vnd.google.colaboratory.intrinsic+json": {
              "type": "dataframe",
              "variable_name": "diamonds",
              "summary": "{\n  \"name\": \"diamonds\",\n  \"rows\": 53940,\n  \"fields\": [\n    {\n      \"column\": \"carat\",\n      \"properties\": {\n        \"dtype\": \"number\",\n        \"std\": 0.4740112444054184,\n        \"min\": 0.2,\n        \"max\": 5.01,\n        \"num_unique_values\": 273,\n        \"samples\": [\n          0.77,\n          1.58,\n          0.65\n        ],\n        \"semantic_type\": \"\",\n        \"description\": \"\"\n      }\n    },\n    {\n      \"column\": \"cut\",\n      \"properties\": {\n        \"dtype\": \"category\",\n        \"num_unique_values\": 5,\n        \"samples\": [\n          \"Premium\",\n          \"Fair\",\n          \"Good\"\n        ],\n        \"semantic_type\": \"\",\n        \"description\": \"\"\n      }\n    },\n    {\n      \"column\": \"color\",\n      \"properties\": {\n        \"dtype\": \"category\",\n        \"num_unique_values\": 7,\n        \"samples\": [\n          \"E\",\n          \"I\",\n          \"G\"\n        ],\n        \"semantic_type\": \"\",\n        \"description\": \"\"\n      }\n    },\n    {\n      \"column\": \"clarity\",\n      \"properties\": {\n        \"dtype\": \"category\",\n        \"num_unique_values\": 8,\n        \"samples\": [\n          \"SI1\",\n          \"VVS1\",\n          \"SI2\"\n        ],\n        \"semantic_type\": \"\",\n        \"description\": \"\"\n      }\n    },\n    {\n      \"column\": \"depth\",\n      \"properties\": {\n        \"dtype\": \"number\",\n        \"std\": 1.432621318833661,\n        \"min\": 43.0,\n        \"max\": 79.0,\n        \"num_unique_values\": 184,\n        \"samples\": [\n          61.0,\n          62.9,\n          70.2\n        ],\n        \"semantic_type\": \"\",\n        \"description\": \"\"\n      }\n    },\n    {\n      \"column\": \"table\",\n      \"properties\": {\n        \"dtype\": \"number\",\n        \"std\": 2.2344905628213225,\n        \"min\": 43.0,\n        \"max\": 95.0,\n        \"num_unique_values\": 127,\n        \"samples\": [\n          54.8,\n          61.5,\n          57.6\n        ],\n        \"semantic_type\": \"\",\n        \"description\": \"\"\n      }\n    },\n    {\n      \"column\": \"price\",\n      \"properties\": {\n        \"dtype\": \"number\",\n        \"std\": 3989,\n        \"min\": 326,\n        \"max\": 18823,\n        \"num_unique_values\": 11602,\n        \"samples\": [\n          16368,\n          895,\n          748\n        ],\n        \"semantic_type\": \"\",\n        \"description\": \"\"\n      }\n    },\n    {\n      \"column\": \"x\",\n      \"properties\": {\n        \"dtype\": \"number\",\n        \"std\": 1.1217607467924928,\n        \"min\": 0.0,\n        \"max\": 10.74,\n        \"num_unique_values\": 554,\n        \"samples\": [\n          5.88,\n          5.69,\n          4.61\n        ],\n        \"semantic_type\": \"\",\n        \"description\": \"\"\n      }\n    },\n    {\n      \"column\": \"y\",\n      \"properties\": {\n        \"dtype\": \"number\",\n        \"std\": 1.1421346741235552,\n        \"min\": 0.0,\n        \"max\": 58.9,\n        \"num_unique_values\": 552,\n        \"samples\": [\n          5.33,\n          5.61,\n          5.25\n        ],\n        \"semantic_type\": \"\",\n        \"description\": \"\"\n      }\n    },\n    {\n      \"column\": \"z\",\n      \"properties\": {\n        \"dtype\": \"number\",\n        \"std\": 0.7056988469499941,\n        \"min\": 0.0,\n        \"max\": 31.8,\n        \"num_unique_values\": 375,\n        \"samples\": [\n          3.36,\n          2.45,\n          2.7\n        ],\n        \"semantic_type\": \"\",\n        \"description\": \"\"\n      }\n    }\n  ]\n}"
            }
          },
          "metadata": {},
          "execution_count": 7
        }
      ]
    },
    {
      "cell_type": "markdown",
      "source": [
        "Para melhor entendimento vamos renomear as colunas:"
      ],
      "metadata": {
        "id": "oRtxkjbwMOqa"
      }
    },
    {
      "cell_type": "code",
      "source": [
        "# Novos nomes das colunas em português\n",
        "nomes_colunas = {\n",
        "    'carat': 'Peso',\n",
        "    'cut': 'Corte',\n",
        "    'color': 'Cor',\n",
        "    'clarity': 'Clareza',\n",
        "    'depth': 'Profundidade',\n",
        "    'table': 'Tabela',\n",
        "    'price': 'Preço',\n",
        "    'x': 'Comprimento (x)',\n",
        "    'y': 'Largura (y)',\n",
        "    'z': 'Profundidade (z)'\n",
        "}\n",
        "\n",
        "# Renomeando as colunas\n",
        "diamonds = diamonds.rename(columns=nomes_colunas)"
      ],
      "metadata": {
        "id": "EcUWIFCnMzFj"
      },
      "execution_count": null,
      "outputs": []
    },
    {
      "cell_type": "markdown",
      "source": [
        "Visualização após alteração dos nomes das colunas:"
      ],
      "metadata": {
        "id": "vBQ06VieNBtR"
      }
    },
    {
      "cell_type": "code",
      "source": [
        "diamonds.head()"
      ],
      "metadata": {
        "colab": {
          "base_uri": "https://localhost:8080/",
          "height": 206
        },
        "id": "Td2Bv4GzM-bV",
        "outputId": "507dd0b6-3105-4af0-8848-45294f0fe3fa"
      },
      "execution_count": null,
      "outputs": [
        {
          "output_type": "execute_result",
          "data": {
            "text/plain": [
              "   Peso    Corte Cor Clareza  Profundidade  Tabela  Preço  Comprimento (x)  \\\n",
              "0  0.23    Ideal   E     SI2          61.5    55.0    326             3.95   \n",
              "1  0.21  Premium   E     SI1          59.8    61.0    326             3.89   \n",
              "2  0.23     Good   E     VS1          56.9    65.0    327             4.05   \n",
              "3  0.29  Premium   I     VS2          62.4    58.0    334             4.20   \n",
              "4  0.31     Good   J     SI2          63.3    58.0    335             4.34   \n",
              "\n",
              "   Largura (y)  Profundidade (z)  \n",
              "0         3.98              2.43  \n",
              "1         3.84              2.31  \n",
              "2         4.07              2.31  \n",
              "3         4.23              2.63  \n",
              "4         4.35              2.75  "
            ],
            "text/html": [
              "\n",
              "  <div id=\"df-c960c8b3-8975-44d6-8e6f-8634ef798d93\" class=\"colab-df-container\">\n",
              "    <div>\n",
              "<style scoped>\n",
              "    .dataframe tbody tr th:only-of-type {\n",
              "        vertical-align: middle;\n",
              "    }\n",
              "\n",
              "    .dataframe tbody tr th {\n",
              "        vertical-align: top;\n",
              "    }\n",
              "\n",
              "    .dataframe thead th {\n",
              "        text-align: right;\n",
              "    }\n",
              "</style>\n",
              "<table border=\"1\" class=\"dataframe\">\n",
              "  <thead>\n",
              "    <tr style=\"text-align: right;\">\n",
              "      <th></th>\n",
              "      <th>Peso</th>\n",
              "      <th>Corte</th>\n",
              "      <th>Cor</th>\n",
              "      <th>Clareza</th>\n",
              "      <th>Profundidade</th>\n",
              "      <th>Tabela</th>\n",
              "      <th>Preço</th>\n",
              "      <th>Comprimento (x)</th>\n",
              "      <th>Largura (y)</th>\n",
              "      <th>Profundidade (z)</th>\n",
              "    </tr>\n",
              "  </thead>\n",
              "  <tbody>\n",
              "    <tr>\n",
              "      <th>0</th>\n",
              "      <td>0.23</td>\n",
              "      <td>Ideal</td>\n",
              "      <td>E</td>\n",
              "      <td>SI2</td>\n",
              "      <td>61.5</td>\n",
              "      <td>55.0</td>\n",
              "      <td>326</td>\n",
              "      <td>3.95</td>\n",
              "      <td>3.98</td>\n",
              "      <td>2.43</td>\n",
              "    </tr>\n",
              "    <tr>\n",
              "      <th>1</th>\n",
              "      <td>0.21</td>\n",
              "      <td>Premium</td>\n",
              "      <td>E</td>\n",
              "      <td>SI1</td>\n",
              "      <td>59.8</td>\n",
              "      <td>61.0</td>\n",
              "      <td>326</td>\n",
              "      <td>3.89</td>\n",
              "      <td>3.84</td>\n",
              "      <td>2.31</td>\n",
              "    </tr>\n",
              "    <tr>\n",
              "      <th>2</th>\n",
              "      <td>0.23</td>\n",
              "      <td>Good</td>\n",
              "      <td>E</td>\n",
              "      <td>VS1</td>\n",
              "      <td>56.9</td>\n",
              "      <td>65.0</td>\n",
              "      <td>327</td>\n",
              "      <td>4.05</td>\n",
              "      <td>4.07</td>\n",
              "      <td>2.31</td>\n",
              "    </tr>\n",
              "    <tr>\n",
              "      <th>3</th>\n",
              "      <td>0.29</td>\n",
              "      <td>Premium</td>\n",
              "      <td>I</td>\n",
              "      <td>VS2</td>\n",
              "      <td>62.4</td>\n",
              "      <td>58.0</td>\n",
              "      <td>334</td>\n",
              "      <td>4.20</td>\n",
              "      <td>4.23</td>\n",
              "      <td>2.63</td>\n",
              "    </tr>\n",
              "    <tr>\n",
              "      <th>4</th>\n",
              "      <td>0.31</td>\n",
              "      <td>Good</td>\n",
              "      <td>J</td>\n",
              "      <td>SI2</td>\n",
              "      <td>63.3</td>\n",
              "      <td>58.0</td>\n",
              "      <td>335</td>\n",
              "      <td>4.34</td>\n",
              "      <td>4.35</td>\n",
              "      <td>2.75</td>\n",
              "    </tr>\n",
              "  </tbody>\n",
              "</table>\n",
              "</div>\n",
              "    <div class=\"colab-df-buttons\">\n",
              "\n",
              "  <div class=\"colab-df-container\">\n",
              "    <button class=\"colab-df-convert\" onclick=\"convertToInteractive('df-c960c8b3-8975-44d6-8e6f-8634ef798d93')\"\n",
              "            title=\"Convert this dataframe to an interactive table.\"\n",
              "            style=\"display:none;\">\n",
              "\n",
              "  <svg xmlns=\"http://www.w3.org/2000/svg\" height=\"24px\" viewBox=\"0 -960 960 960\">\n",
              "    <path d=\"M120-120v-720h720v720H120Zm60-500h600v-160H180v160Zm220 220h160v-160H400v160Zm0 220h160v-160H400v160ZM180-400h160v-160H180v160Zm440 0h160v-160H620v160ZM180-180h160v-160H180v160Zm440 0h160v-160H620v160Z\"/>\n",
              "  </svg>\n",
              "    </button>\n",
              "\n",
              "  <style>\n",
              "    .colab-df-container {\n",
              "      display:flex;\n",
              "      gap: 12px;\n",
              "    }\n",
              "\n",
              "    .colab-df-convert {\n",
              "      background-color: #E8F0FE;\n",
              "      border: none;\n",
              "      border-radius: 50%;\n",
              "      cursor: pointer;\n",
              "      display: none;\n",
              "      fill: #1967D2;\n",
              "      height: 32px;\n",
              "      padding: 0 0 0 0;\n",
              "      width: 32px;\n",
              "    }\n",
              "\n",
              "    .colab-df-convert:hover {\n",
              "      background-color: #E2EBFA;\n",
              "      box-shadow: 0px 1px 2px rgba(60, 64, 67, 0.3), 0px 1px 3px 1px rgba(60, 64, 67, 0.15);\n",
              "      fill: #174EA6;\n",
              "    }\n",
              "\n",
              "    .colab-df-buttons div {\n",
              "      margin-bottom: 4px;\n",
              "    }\n",
              "\n",
              "    [theme=dark] .colab-df-convert {\n",
              "      background-color: #3B4455;\n",
              "      fill: #D2E3FC;\n",
              "    }\n",
              "\n",
              "    [theme=dark] .colab-df-convert:hover {\n",
              "      background-color: #434B5C;\n",
              "      box-shadow: 0px 1px 3px 1px rgba(0, 0, 0, 0.15);\n",
              "      filter: drop-shadow(0px 1px 2px rgba(0, 0, 0, 0.3));\n",
              "      fill: #FFFFFF;\n",
              "    }\n",
              "  </style>\n",
              "\n",
              "    <script>\n",
              "      const buttonEl =\n",
              "        document.querySelector('#df-c960c8b3-8975-44d6-8e6f-8634ef798d93 button.colab-df-convert');\n",
              "      buttonEl.style.display =\n",
              "        google.colab.kernel.accessAllowed ? 'block' : 'none';\n",
              "\n",
              "      async function convertToInteractive(key) {\n",
              "        const element = document.querySelector('#df-c960c8b3-8975-44d6-8e6f-8634ef798d93');\n",
              "        const dataTable =\n",
              "          await google.colab.kernel.invokeFunction('convertToInteractive',\n",
              "                                                    [key], {});\n",
              "        if (!dataTable) return;\n",
              "\n",
              "        const docLinkHtml = 'Like what you see? Visit the ' +\n",
              "          '<a target=\"_blank\" href=https://colab.research.google.com/notebooks/data_table.ipynb>data table notebook</a>'\n",
              "          + ' to learn more about interactive tables.';\n",
              "        element.innerHTML = '';\n",
              "        dataTable['output_type'] = 'display_data';\n",
              "        await google.colab.output.renderOutput(dataTable, element);\n",
              "        const docLink = document.createElement('div');\n",
              "        docLink.innerHTML = docLinkHtml;\n",
              "        element.appendChild(docLink);\n",
              "      }\n",
              "    </script>\n",
              "  </div>\n",
              "\n",
              "\n",
              "<div id=\"df-567d08a3-3a54-4d3c-bd03-ca95411a27b4\">\n",
              "  <button class=\"colab-df-quickchart\" onclick=\"quickchart('df-567d08a3-3a54-4d3c-bd03-ca95411a27b4')\"\n",
              "            title=\"Suggest charts\"\n",
              "            style=\"display:none;\">\n",
              "\n",
              "<svg xmlns=\"http://www.w3.org/2000/svg\" height=\"24px\"viewBox=\"0 0 24 24\"\n",
              "     width=\"24px\">\n",
              "    <g>\n",
              "        <path d=\"M19 3H5c-1.1 0-2 .9-2 2v14c0 1.1.9 2 2 2h14c1.1 0 2-.9 2-2V5c0-1.1-.9-2-2-2zM9 17H7v-7h2v7zm4 0h-2V7h2v10zm4 0h-2v-4h2v4z\"/>\n",
              "    </g>\n",
              "</svg>\n",
              "  </button>\n",
              "\n",
              "<style>\n",
              "  .colab-df-quickchart {\n",
              "      --bg-color: #E8F0FE;\n",
              "      --fill-color: #1967D2;\n",
              "      --hover-bg-color: #E2EBFA;\n",
              "      --hover-fill-color: #174EA6;\n",
              "      --disabled-fill-color: #AAA;\n",
              "      --disabled-bg-color: #DDD;\n",
              "  }\n",
              "\n",
              "  [theme=dark] .colab-df-quickchart {\n",
              "      --bg-color: #3B4455;\n",
              "      --fill-color: #D2E3FC;\n",
              "      --hover-bg-color: #434B5C;\n",
              "      --hover-fill-color: #FFFFFF;\n",
              "      --disabled-bg-color: #3B4455;\n",
              "      --disabled-fill-color: #666;\n",
              "  }\n",
              "\n",
              "  .colab-df-quickchart {\n",
              "    background-color: var(--bg-color);\n",
              "    border: none;\n",
              "    border-radius: 50%;\n",
              "    cursor: pointer;\n",
              "    display: none;\n",
              "    fill: var(--fill-color);\n",
              "    height: 32px;\n",
              "    padding: 0;\n",
              "    width: 32px;\n",
              "  }\n",
              "\n",
              "  .colab-df-quickchart:hover {\n",
              "    background-color: var(--hover-bg-color);\n",
              "    box-shadow: 0 1px 2px rgba(60, 64, 67, 0.3), 0 1px 3px 1px rgba(60, 64, 67, 0.15);\n",
              "    fill: var(--button-hover-fill-color);\n",
              "  }\n",
              "\n",
              "  .colab-df-quickchart-complete:disabled,\n",
              "  .colab-df-quickchart-complete:disabled:hover {\n",
              "    background-color: var(--disabled-bg-color);\n",
              "    fill: var(--disabled-fill-color);\n",
              "    box-shadow: none;\n",
              "  }\n",
              "\n",
              "  .colab-df-spinner {\n",
              "    border: 2px solid var(--fill-color);\n",
              "    border-color: transparent;\n",
              "    border-bottom-color: var(--fill-color);\n",
              "    animation:\n",
              "      spin 1s steps(1) infinite;\n",
              "  }\n",
              "\n",
              "  @keyframes spin {\n",
              "    0% {\n",
              "      border-color: transparent;\n",
              "      border-bottom-color: var(--fill-color);\n",
              "      border-left-color: var(--fill-color);\n",
              "    }\n",
              "    20% {\n",
              "      border-color: transparent;\n",
              "      border-left-color: var(--fill-color);\n",
              "      border-top-color: var(--fill-color);\n",
              "    }\n",
              "    30% {\n",
              "      border-color: transparent;\n",
              "      border-left-color: var(--fill-color);\n",
              "      border-top-color: var(--fill-color);\n",
              "      border-right-color: var(--fill-color);\n",
              "    }\n",
              "    40% {\n",
              "      border-color: transparent;\n",
              "      border-right-color: var(--fill-color);\n",
              "      border-top-color: var(--fill-color);\n",
              "    }\n",
              "    60% {\n",
              "      border-color: transparent;\n",
              "      border-right-color: var(--fill-color);\n",
              "    }\n",
              "    80% {\n",
              "      border-color: transparent;\n",
              "      border-right-color: var(--fill-color);\n",
              "      border-bottom-color: var(--fill-color);\n",
              "    }\n",
              "    90% {\n",
              "      border-color: transparent;\n",
              "      border-bottom-color: var(--fill-color);\n",
              "    }\n",
              "  }\n",
              "</style>\n",
              "\n",
              "  <script>\n",
              "    async function quickchart(key) {\n",
              "      const quickchartButtonEl =\n",
              "        document.querySelector('#' + key + ' button');\n",
              "      quickchartButtonEl.disabled = true;  // To prevent multiple clicks.\n",
              "      quickchartButtonEl.classList.add('colab-df-spinner');\n",
              "      try {\n",
              "        const charts = await google.colab.kernel.invokeFunction(\n",
              "            'suggestCharts', [key], {});\n",
              "      } catch (error) {\n",
              "        console.error('Error during call to suggestCharts:', error);\n",
              "      }\n",
              "      quickchartButtonEl.classList.remove('colab-df-spinner');\n",
              "      quickchartButtonEl.classList.add('colab-df-quickchart-complete');\n",
              "    }\n",
              "    (() => {\n",
              "      let quickchartButtonEl =\n",
              "        document.querySelector('#df-567d08a3-3a54-4d3c-bd03-ca95411a27b4 button');\n",
              "      quickchartButtonEl.style.display =\n",
              "        google.colab.kernel.accessAllowed ? 'block' : 'none';\n",
              "    })();\n",
              "  </script>\n",
              "</div>\n",
              "    </div>\n",
              "  </div>\n"
            ],
            "application/vnd.google.colaboratory.intrinsic+json": {
              "type": "dataframe",
              "variable_name": "diamonds",
              "summary": "{\n  \"name\": \"diamonds\",\n  \"rows\": 53940,\n  \"fields\": [\n    {\n      \"column\": \"Peso\",\n      \"properties\": {\n        \"dtype\": \"number\",\n        \"std\": 0.4740112444054184,\n        \"min\": 0.2,\n        \"max\": 5.01,\n        \"num_unique_values\": 273,\n        \"samples\": [\n          0.77,\n          1.58,\n          0.65\n        ],\n        \"semantic_type\": \"\",\n        \"description\": \"\"\n      }\n    },\n    {\n      \"column\": \"Corte\",\n      \"properties\": {\n        \"dtype\": \"category\",\n        \"num_unique_values\": 5,\n        \"samples\": [\n          \"Premium\",\n          \"Fair\",\n          \"Good\"\n        ],\n        \"semantic_type\": \"\",\n        \"description\": \"\"\n      }\n    },\n    {\n      \"column\": \"Cor\",\n      \"properties\": {\n        \"dtype\": \"category\",\n        \"num_unique_values\": 7,\n        \"samples\": [\n          \"E\",\n          \"I\",\n          \"G\"\n        ],\n        \"semantic_type\": \"\",\n        \"description\": \"\"\n      }\n    },\n    {\n      \"column\": \"Clareza\",\n      \"properties\": {\n        \"dtype\": \"category\",\n        \"num_unique_values\": 8,\n        \"samples\": [\n          \"SI1\",\n          \"VVS1\",\n          \"SI2\"\n        ],\n        \"semantic_type\": \"\",\n        \"description\": \"\"\n      }\n    },\n    {\n      \"column\": \"Profundidade\",\n      \"properties\": {\n        \"dtype\": \"number\",\n        \"std\": 1.432621318833661,\n        \"min\": 43.0,\n        \"max\": 79.0,\n        \"num_unique_values\": 184,\n        \"samples\": [\n          61.0,\n          62.9,\n          70.2\n        ],\n        \"semantic_type\": \"\",\n        \"description\": \"\"\n      }\n    },\n    {\n      \"column\": \"Tabela\",\n      \"properties\": {\n        \"dtype\": \"number\",\n        \"std\": 2.2344905628213225,\n        \"min\": 43.0,\n        \"max\": 95.0,\n        \"num_unique_values\": 127,\n        \"samples\": [\n          54.8,\n          61.5,\n          57.6\n        ],\n        \"semantic_type\": \"\",\n        \"description\": \"\"\n      }\n    },\n    {\n      \"column\": \"Pre\\u00e7o\",\n      \"properties\": {\n        \"dtype\": \"number\",\n        \"std\": 3989,\n        \"min\": 326,\n        \"max\": 18823,\n        \"num_unique_values\": 11602,\n        \"samples\": [\n          16368,\n          895,\n          748\n        ],\n        \"semantic_type\": \"\",\n        \"description\": \"\"\n      }\n    },\n    {\n      \"column\": \"Comprimento (x)\",\n      \"properties\": {\n        \"dtype\": \"number\",\n        \"std\": 1.1217607467924928,\n        \"min\": 0.0,\n        \"max\": 10.74,\n        \"num_unique_values\": 554,\n        \"samples\": [\n          5.88,\n          5.69,\n          4.61\n        ],\n        \"semantic_type\": \"\",\n        \"description\": \"\"\n      }\n    },\n    {\n      \"column\": \"Largura (y)\",\n      \"properties\": {\n        \"dtype\": \"number\",\n        \"std\": 1.1421346741235552,\n        \"min\": 0.0,\n        \"max\": 58.9,\n        \"num_unique_values\": 552,\n        \"samples\": [\n          5.33,\n          5.61,\n          5.25\n        ],\n        \"semantic_type\": \"\",\n        \"description\": \"\"\n      }\n    },\n    {\n      \"column\": \"Profundidade (z)\",\n      \"properties\": {\n        \"dtype\": \"number\",\n        \"std\": 0.7056988469499941,\n        \"min\": 0.0,\n        \"max\": 31.8,\n        \"num_unique_values\": 375,\n        \"samples\": [\n          3.36,\n          2.45,\n          2.7\n        ],\n        \"semantic_type\": \"\",\n        \"description\": \"\"\n      }\n    }\n  ]\n}"
            }
          },
          "metadata": {},
          "execution_count": 9
        }
      ]
    },
    {
      "cell_type": "markdown",
      "source": [
        "A primeira avaliação que faremos é identificar se o menor diamante é o mais barato e se o maior é o mais caro.\n",
        "\n",
        "Utilizada as funções idxmin e idxmax."
      ],
      "metadata": {
        "id": "GUCZF4R7N2ET"
      }
    },
    {
      "cell_type": "code",
      "source": [
        "#Identificando atráves da função idxmin qual o registro com o menor PESO de diamante.\n",
        "menor_peso = diamonds.loc[diamonds[\"Peso\"].idxmin()]\n",
        "\n",
        "#Identificando atráves da função idxmin qual o registro com o maior PESO de diamante.\n",
        "maior_peso = diamonds.loc[diamonds[\"Peso\"].idxmax()]\n",
        "\n",
        "#Identificando atráves da função idxmin qual o registro com o menor PREÇO de diamante.\n",
        "menor_valor = diamonds.loc[diamonds[\"Preço\"].idxmin()]\n",
        "\n",
        "#Identificando atráves da função idxmin qual o registro com o menor PREÇO de diamante.\n",
        "maior_valor = diamonds.loc[diamonds[\"Preço\"].idxmax()]\n",
        "\n",
        "print(\"Registro com menor peso:\")\n",
        "print(menor_peso)\n",
        "print(\"\\nRegistro com maior peso:\")\n",
        "print(maior_peso)\n",
        "print(\"\\nRegistro com menor valor:\")\n",
        "print(menor_valor)\n",
        "print(\"\\nRegistro com maior valor:\")\n",
        "print(maior_valor)"
      ],
      "metadata": {
        "colab": {
          "base_uri": "https://localhost:8080/"
        },
        "id": "kgZBn3G1Oh9J",
        "outputId": "f31a55f2-7b39-4030-cf18-12d272161689"
      },
      "execution_count": null,
      "outputs": [
        {
          "output_type": "stream",
          "name": "stdout",
          "text": [
            "Registro com menor peso:\n",
            "Peso                    0.2\n",
            "Corte               Premium\n",
            "Cor                       E\n",
            "Clareza                 SI2\n",
            "Profundidade           60.2\n",
            "Tabela                 62.0\n",
            "Preço                   345\n",
            "Comprimento (x)        3.79\n",
            "Largura (y)            3.75\n",
            "Profundidade (z)       2.27\n",
            "Name: 14, dtype: object\n",
            "\n",
            "Registro com maior peso:\n",
            "Peso                 5.01\n",
            "Corte                Fair\n",
            "Cor                     J\n",
            "Clareza                I1\n",
            "Profundidade         65.5\n",
            "Tabela               59.0\n",
            "Preço               18018\n",
            "Comprimento (x)     10.74\n",
            "Largura (y)         10.54\n",
            "Profundidade (z)     6.98\n",
            "Name: 27415, dtype: object\n",
            "\n",
            "Registro com menor valor:\n",
            "Peso                 0.23\n",
            "Corte               Ideal\n",
            "Cor                     E\n",
            "Clareza               SI2\n",
            "Profundidade         61.5\n",
            "Tabela               55.0\n",
            "Preço                 326\n",
            "Comprimento (x)      3.95\n",
            "Largura (y)          3.98\n",
            "Profundidade (z)     2.43\n",
            "Name: 0, dtype: object\n",
            "\n",
            "Registro com maior valor:\n",
            "Peso                   2.29\n",
            "Corte               Premium\n",
            "Cor                       I\n",
            "Clareza                 VS2\n",
            "Profundidade           60.8\n",
            "Tabela                 60.0\n",
            "Preço                 18823\n",
            "Comprimento (x)         8.5\n",
            "Largura (y)            8.47\n",
            "Profundidade (z)       5.16\n",
            "Name: 27749, dtype: object\n"
          ]
        }
      ]
    },
    {
      "cell_type": "markdown",
      "source": [
        "**Conclusão:** Com base no retorno do código anterior, já podemos identificar que o preço não é diretamente ligado ao preço, pois o menor diamante não é o mais barato e nem o maior é o mais caro."
      ],
      "metadata": {
        "id": "KK_y9X7oPRGa"
      }
    },
    {
      "cell_type": "markdown",
      "source": [
        "O próximo passo é identificar quais os tipos de Corte, Cor e Clareza, temos em nossa tabela.\n",
        "\n",
        "Para isso utilizaremos o método unique."
      ],
      "metadata": {
        "id": "SVTGhXDWPtrZ"
      }
    },
    {
      "cell_type": "code",
      "source": [
        "# Tipos únicos de corte\n",
        "tipos_corte = diamonds['Corte'].unique()\n",
        "\n",
        "# Tipos únicos de cor\n",
        "tipos_cor = diamonds['Cor'].unique()\n",
        "\n",
        "# Tipos únicos de clareza\n",
        "tipos_clareza = diamonds['Clareza'].unique()\n",
        "\n",
        "print(\"Tipos de Corte:\", tipos_corte)\n",
        "print(\"Tipos de Cor:\", tipos_cor)\n",
        "print(\"Tipos de Clareza:\", tipos_clareza)"
      ],
      "metadata": {
        "colab": {
          "base_uri": "https://localhost:8080/"
        },
        "id": "2MDiepgNPtZ-",
        "outputId": "90b07478-d23f-4661-e7c0-718699d57fd2"
      },
      "execution_count": null,
      "outputs": [
        {
          "output_type": "stream",
          "name": "stdout",
          "text": [
            "Tipos de Corte: ['Ideal', 'Premium', 'Good', 'Very Good', 'Fair']\n",
            "Categories (5, object): ['Ideal', 'Premium', 'Very Good', 'Good', 'Fair']\n",
            "Tipos de Cor: ['E', 'I', 'J', 'H', 'F', 'G', 'D']\n",
            "Categories (7, object): ['D', 'E', 'F', 'G', 'H', 'I', 'J']\n",
            "Tipos de Clareza: ['SI2', 'SI1', 'VS1', 'VS2', 'VVS2', 'VVS1', 'I1', 'IF']\n",
            "Categories (8, object): ['IF', 'VVS1', 'VVS2', 'VS1', 'VS2', 'SI1', 'SI2', 'I1']\n"
          ]
        }
      ]
    },
    {
      "cell_type": "markdown",
      "source": [
        "Com base nesse retonor e após pesquisa no site da loja Shimansky (https://www.shimansky.co.za/pt/pages/descubra-5cs-de-cor-de-classificacao-de-diamante)\n",
        "\n",
        "## Temos as seguintes classificações de cores:\n",
        "\n",
        "**D:** Absolutamente incolor. O mais raro e valioso. Menos de 1% dos diamantes extraídos em todo o mundo são classificados como cor D.\n",
        "\n",
        "**E – F:** Também considerado incolor, embora seja um traço mínimo de cor que só pode ser detectado por um gemologista especialista. Menos raro que D e mais valioso que G – H.\n",
        "\n",
        "**G – H:** Quase incolor. A olho nu, estes diamantes parecem límpidos e incolores, embora também contenham minúsculos traços de cor. Menos raro que E –F, mas mais valioso que I – J.\n",
        "\n",
        "**I – J:** Quase incolor com um leve tom de amarelo. Menos raro que G – H, mas mais valioso que K – L.\n",
        "\n",
        "**K  - L:** Uma tonalidade amarela fraca que é visível a olho nu. Menos raro que I – J, mas ligeiramente mais valioso que M – N.\n",
        "\n",
        "**M – Z:** Uma tonalidade amarela muito clara, facilmente identificada a olho nu. Menos valioso do grau de cor do diamante."
      ],
      "metadata": {
        "id": "s4kXXV0JRhv4"
      }
    },
    {
      "cell_type": "markdown",
      "source": [
        "## Classificação de clareza:\n",
        "\n",
        "**IF (Internally Flawless):** Diamantes nesta categoria não possuem inclusões internas visíveis sob ampliação de 10x, mas podem apresentar pequenas falhas externas.\n",
        "\n",
        "**VVS1 e VVS2 (Very, Very Slightly Included):** Diamantes nesta categoria possuem inclusões muito pequenas que são extremamente difíceis de detectar mesmo sob ampliação de 10x.\n",
        "\n",
        "**VS1 e VS2 (Very Slightly Included):** Diamantes nesta categoria possuem inclusões pequenas que são difíceis de detectar sob ampliação de 10x.\n",
        "\n",
        "**SI1 e SI2 (Slightly Included):** Diamantes nesta categoria possuem inclusões visíveis sob ampliação de 10x, mas geralmente não são visíveis a olho nu.\n",
        "\n",
        "**I1 (Included):** Diamantes nesta categoria possuem inclusões visíveis a olho nu que podem afetar a aparência e a durabilidade do diamante."
      ],
      "metadata": {
        "id": "-6Jk23kWT6Pd"
      }
    },
    {
      "cell_type": "markdown",
      "source": [
        "## Cortes:\n",
        "\n",
        "**Ideal:** Diamantes com este tipo de corte são lapidados para maximizar o brilho e o fogo, refletindo a luz internamente de volta para o observador. Eles são conhecidos por sua simetria e proporções precisas, resultando em uma aparência excepcionalmente brilhante e deslumbrante.\n",
        "\n",
        "**Premium**: Este tipo de corte oferece um equilíbrio entre qualidade e valor. Diamantes com corte premium ainda têm boa proporção e simetria, proporcionando um brilho impressionante, embora possam não ser tão excepcionais quanto os diamantes ideais em termos de brilho e fogo.\n",
        "\n",
        "**Very Good (Muito Bom):** Diamantes com este tipo de corte possuem proporções e simetria muito boas, oferecendo um brilho considerável. Embora possam não ter a mesma excelência de corte que os diamantes ideais ou premium, eles ainda proporcionam uma aparência atraente e são uma escolha popular para aqueles que buscam um bom equilíbrio entre qualidade e preço.\n",
        "\n",
        "**Good (Bom):** Diamantes com este tipo de corte têm proporções aceitáveis, mas podem apresentar algumas imperfeições visuais. Embora ainda ofereçam brilho, podem não ter o mesmo nível de fogo e brilho que os cortes de qualidade superior.\n",
        "\n",
        "**Fair (Regular):** Este é o tipo de corte de diamante de qualidade mais baixa. Diamantes com corte regular podem ter proporções irregulares e simetria comprometida, resultando em uma aparência menos brilhante e menos desejável em comparação com cortes de qualidade superior."
      ],
      "metadata": {
        "id": "tL9D2KQDVkw8"
      }
    },
    {
      "cell_type": "markdown",
      "source": [
        "Identificamos a frequência relatica de cada categoria, utilizando o value_counts com o normalize TRUE.\n",
        "\n"
      ],
      "metadata": {
        "id": "cY6hM4aAV10S"
      }
    },
    {
      "cell_type": "code",
      "source": [
        "#Frequência relativa para Corte\n",
        "freq_relativa_corte = diamonds['Corte'].value_counts(normalize=True)\n",
        "\n",
        "# Frequência relativa para Cor\n",
        "freq_relativa_cor = diamonds['Cor'].value_counts(normalize=True)\n",
        "\n",
        "# Frequência relativa para Clareza\n",
        "freq_relativa_clareza = diamonds['Clareza'].value_counts(normalize=True)\n",
        "\n",
        "print(\"Frequência relativa de cada categoria de corte:\")\n",
        "print(freq_relativa_corte)\n",
        "print(\"\\nFrequência relativa de cada categoria de cor:\")\n",
        "print(freq_relativa_cor)\n",
        "print(\"\\nFrequência relativa de cada categoria de clareza:\")\n",
        "print(freq_relativa_clareza)"
      ],
      "metadata": {
        "colab": {
          "base_uri": "https://localhost:8080/"
        },
        "id": "hPgAWIY9RnhY",
        "outputId": "72868c57-33d3-439e-bb00-1f4dc4e851e5"
      },
      "execution_count": null,
      "outputs": [
        {
          "output_type": "stream",
          "name": "stdout",
          "text": [
            "Frequência relativa de cada categoria de corte:\n",
            "Corte\n",
            "Ideal        0.399537\n",
            "Premium      0.255673\n",
            "Very Good    0.223990\n",
            "Good         0.090953\n",
            "Fair         0.029848\n",
            "Name: proportion, dtype: float64\n",
            "\n",
            "Frequência relativa de cada categoria de cor:\n",
            "Cor\n",
            "G    0.209344\n",
            "E    0.181628\n",
            "F    0.176900\n",
            "H    0.153949\n",
            "D    0.125603\n",
            "I    0.100519\n",
            "J    0.052058\n",
            "Name: proportion, dtype: float64\n",
            "\n",
            "Frequência relativa de cada categoria de clareza:\n",
            "Clareza\n",
            "SI1     0.242214\n",
            "VS2     0.227253\n",
            "SI2     0.170449\n",
            "VS1     0.151483\n",
            "VVS2    0.093919\n",
            "VVS1    0.067760\n",
            "IF      0.033185\n",
            "I1      0.013737\n",
            "Name: proportion, dtype: float64\n"
          ]
        }
      ]
    },
    {
      "cell_type": "markdown",
      "source": [
        "Conclusão:\n",
        "\n",
        "Temos quase 40% dos registros no Corte Ideal e apenas 0,02% em Fair.\n",
        "\n",
        "Para cor temos uma distribuição mais equilibrada, porém o J apresenta apenas 0,05%.\n",
        "\n",
        "Em relação a Clareza os dois maiores valores estão em SI2 24,22% e VS2 22,72% enquanto que os registro de IF são de 0,03% e I1 apenas 0,01%."
      ],
      "metadata": {
        "id": "_uKbIj-DXHaY"
      }
    },
    {
      "cell_type": "markdown",
      "source": [
        "Abaixo, utilizando o matplotlib plotaremos 3 gráficos de barra para melhor visualização das ocorrencias de cada categoria."
      ],
      "metadata": {
        "id": "N2zf19yJYh13"
      }
    },
    {
      "cell_type": "code",
      "source": [
        "#Definindo o tamanho do gráfico\n",
        "plt.figure(figsize=(10, 6))\n",
        "\n",
        "#Realizando a contagem de valores e ordenando do maior para o menor na coluna Corte\n",
        "contagem_corte = diamonds['Corte'].value_counts().sort_values(ascending=True)\n",
        "\n",
        "#Realizando a contagem de valores e ordenando do maior para o menor na coluna Cor\n",
        "contagem_cor = diamonds['Cor'].value_counts().sort_values(ascending=True)\n",
        "\n",
        "#Realizando a contagem de valores e ordenando do maior para o menor na coluna Clareza\n",
        "contagem_clareza = diamonds['Clareza'].value_counts().sort_values(ascending=True)\n",
        "\n",
        "#Montando o gráfico de Corte x Contagem\n",
        "plt.subplot(1, 3, 1)\n",
        "contagem_corte.plot(kind='barh', color='skyblue')\n",
        "plt.title('Corte')\n",
        "plt.xlabel('Contagem')\n",
        "\n",
        "#Montando o gráfico de Corte x Contagem\n",
        "plt.subplot(1, 3, 2)\n",
        "contagem_cor.plot(kind='barh', color='salmon')\n",
        "plt.title('Cor')\n",
        "plt.xlabel('Contagem')\n",
        "\n",
        "#Montando o gráfico de Corte x Contagem\n",
        "plt.subplot(1, 3, 3)\n",
        "contagem_clareza.plot(kind='barh', color='lightgreen')\n",
        "plt.title('Clareza')\n",
        "plt.xlabel('Contagem')\n",
        "\n",
        "#Ajustar o layout\n",
        "plt.tight_layout()\n",
        "\n",
        "#Plotando o gráfico\n",
        "plt.show()"
      ],
      "metadata": {
        "colab": {
          "base_uri": "https://localhost:8080/",
          "height": 607
        },
        "id": "gSgMVLPXa8da",
        "outputId": "310c6f82-da5a-4d09-b881-5bfde6a65190"
      },
      "execution_count": null,
      "outputs": [
        {
          "output_type": "display_data",
          "data": {
            "text/plain": [
              "<Figure size 1000x600 with 3 Axes>"
            ],
            "image/png": "[encoded data removed]"
          },
          "metadata": {}
        }
      ]
    },
    {
      "cell_type": "markdown",
      "source": [
        "#Análise Exploratória Univariada"
      ],
      "metadata": {
        "id": "c4utNUTxcSUS"
      }
    },
    {
      "cell_type": "markdown",
      "source": [
        "Vamos verificar as informações estatísticas das variáveis quantitativas."
      ],
      "metadata": {
        "id": "8T3yMZEHiD9O"
      }
    },
    {
      "cell_type": "markdown",
      "source": [
        "## PESO"
      ],
      "metadata": {
        "id": "o3C5HIPwkY1O"
      }
    },
    {
      "cell_type": "code",
      "source": [
        "diamonds['Peso'].describe()"
      ],
      "metadata": {
        "colab": {
          "base_uri": "https://localhost:8080/"
        },
        "id": "e8iiDapScSeN",
        "outputId": "3c22ef0e-5a6c-480b-f1f4-0d03b4c74e46"
      },
      "execution_count": null,
      "outputs": [
        {
          "output_type": "execute_result",
          "data": {
            "text/plain": [
              "count    53940.000000\n",
              "mean         0.797940\n",
              "std          0.474011\n",
              "min          0.200000\n",
              "25%          0.400000\n",
              "50%          0.700000\n",
              "75%          1.040000\n",
              "max          5.010000\n",
              "Name: Peso, dtype: float64"
            ]
          },
          "metadata": {},
          "execution_count": 14
        }
      ]
    },
    {
      "cell_type": "code",
      "source": [
        "diamonds['Peso'].mode()"
      ],
      "metadata": {
        "colab": {
          "base_uri": "https://localhost:8080/"
        },
        "id": "S01rbIuciXGh",
        "outputId": "fbe2a773-4996-4314-ab11-18e01b7fe36c"
      },
      "execution_count": null,
      "outputs": [
        {
          "output_type": "execute_result",
          "data": {
            "text/plain": [
              "0    0.3\n",
              "Name: Peso, dtype: float64"
            ]
          },
          "metadata": {},
          "execution_count": 15
        }
      ]
    },
    {
      "cell_type": "code",
      "source": [
        "diamonds['Peso'].var()"
      ],
      "metadata": {
        "colab": {
          "base_uri": "https://localhost:8080/"
        },
        "id": "sPjpek9MiaVS",
        "outputId": "80eb72f4-6af8-48ba-ed10-016510a0d7b9"
      },
      "execution_count": null,
      "outputs": [
        {
          "output_type": "execute_result",
          "data": {
            "text/plain": [
              "0.22468665982277333"
            ]
          },
          "metadata": {},
          "execution_count": 16
        }
      ]
    },
    {
      "cell_type": "code",
      "source": [
        "#Definindo o tamanho dos gráficos\n",
        "fig, axs = plt.subplots(1, 2, figsize=(12, 4))\n",
        "\n",
        "#Gráfico de Histograma\n",
        "axs[0].hist(diamonds['Peso'], color='skyblue', edgecolor='black')\n",
        "axs[0].set_title('Histograma do Peso dos Diamantes')\n",
        "axs[0].set_xlabel('Peso')\n",
        "axs[0].set_ylabel('Frequência')\n",
        "\n",
        "#Box Plot\n",
        "axs[1].boxplot(diamonds['Peso'], patch_artist=True, notch=True, vert=False, boxprops=dict(facecolor='lightgreen'))\n",
        "axs[1].set_title('Boxplot do Peso dos Diamantes')\n",
        "axs[1].set_xlabel('Peso')\n",
        "\n",
        "#Ajustar o layout\n",
        "plt.tight_layout()\n",
        "\n",
        "#Plotando o gráfico\n",
        "plt.show()"
      ],
      "metadata": {
        "colab": {
          "base_uri": "https://localhost:8080/",
          "height": 407
        },
        "id": "Sg1_ma4pieoU",
        "outputId": "62bb6da4-ffdd-4758-bbc4-ffcb2b2c606d"
      },
      "execution_count": null,
      "outputs": [
        {
          "output_type": "display_data",
          "data": {
            "text/plain": [
              "<Figure size 1200x400 with 2 Axes>"
            ],
            "image/png": "[encoded data removed]"
          },
          "metadata": {}
        }
      ]
    },
    {
      "cell_type": "code",
      "source": [
        "#Calculando a assimetria\n",
        "diamonds['Peso'].skew()"
      ],
      "metadata": {
        "colab": {
          "base_uri": "https://localhost:8080/"
        },
        "id": "DoGnXjs3ln6y",
        "outputId": "876e54f8-898e-4c2a-e2ed-2b857a1d541a"
      },
      "execution_count": null,
      "outputs": [
        {
          "output_type": "execute_result",
          "data": {
            "text/plain": [
              "1.116645920812613"
            ]
          },
          "metadata": {},
          "execution_count": 18
        }
      ]
    },
    {
      "cell_type": "code",
      "source": [
        "#Gráfico de distribuição\n",
        "sns.displot(diamonds['Peso'], kde=True)"
      ],
      "metadata": {
        "colab": {
          "base_uri": "https://localhost:8080/",
          "height": 524
        },
        "id": "7O8Mlu_PnHeS",
        "outputId": "d566b43b-0560-4617-9799-9619db1ce071"
      },
      "execution_count": null,
      "outputs": [
        {
          "output_type": "execute_result",
          "data": {
            "text/plain": [
              "<seaborn.axisgrid.FacetGrid at 0x79db981a9300>"
            ]
          },
          "metadata": {},
          "execution_count": 19
        },
        {
          "output_type": "display_data",
          "data": {
            "text/plain": [
              "<Figure size 500x500 with 1 Axes>"
            ],
            "image/png": "[encoded data removed]"
          },
          "metadata": {}
        }
      ]
    },
    {
      "cell_type": "markdown",
      "source": [
        "Conclusão:\n",
        "\n",
        "Após a análise exploratória do dataframe, observamos que o peso médio dos diamantes é de aproximadamente 0,798 quilates, com um desvio padrão de cerca de 0,474 quilates. A distribuição dos pesos dos diamantes apresenta assimetria positiva, como indicado pelo coeficiente de assimetria de aproximadamente 1,117. Isso significa que a cauda da distribuição estende-se mais para o lado direito, com uma proporção maior de diamantes com pesos mais altos.\n",
        "\n",
        "Os valores variam de 0,20 a 5,01 quilates, com a mediana do peso sendo 0,70 quilates e quartis de 25% e 75% em 0,40 e 1,04 quilates, respectivamente. O gráfico de boxplot revela a presença de outliers nos valores de peso, sugerindo uma dispersão significativa dos dados.\n",
        "\n",
        "A moda do peso dos diamantes é de 0,3 quilates, indicando que este é o valor mais frequente."
      ],
      "metadata": {
        "id": "3m3XKBhFjnye"
      }
    },
    {
      "cell_type": "markdown",
      "source": [
        "##PREÇO"
      ],
      "metadata": {
        "id": "CzM-1jzskhLi"
      }
    },
    {
      "cell_type": "code",
      "source": [
        "diamonds['Preço'].describe()"
      ],
      "metadata": {
        "colab": {
          "base_uri": "https://localhost:8080/"
        },
        "outputId": "78fc90e1-efd8-43f9-8c29-f0c94269984c",
        "id": "oUmzA6gekhLi"
      },
      "execution_count": null,
      "outputs": [
        {
          "output_type": "execute_result",
          "data": {
            "text/plain": [
              "count    53940.000000\n",
              "mean      3932.799722\n",
              "std       3989.439738\n",
              "min        326.000000\n",
              "25%        950.000000\n",
              "50%       2401.000000\n",
              "75%       5324.250000\n",
              "max      18823.000000\n",
              "Name: Preço, dtype: float64"
            ]
          },
          "metadata": {},
          "execution_count": 20
        }
      ]
    },
    {
      "cell_type": "code",
      "source": [
        "diamonds['Preço'].mode()"
      ],
      "metadata": {
        "colab": {
          "base_uri": "https://localhost:8080/"
        },
        "outputId": "baa83146-7296-492f-b773-2e7963dcc83e",
        "id": "cQVMlVYskhLi"
      },
      "execution_count": null,
      "outputs": [
        {
          "output_type": "execute_result",
          "data": {
            "text/plain": [
              "0    605\n",
              "Name: Preço, dtype: int64"
            ]
          },
          "metadata": {},
          "execution_count": 21
        }
      ]
    },
    {
      "cell_type": "code",
      "source": [
        "diamonds['Preço'].var()"
      ],
      "metadata": {
        "colab": {
          "base_uri": "https://localhost:8080/"
        },
        "outputId": "42c91b78-e956-4064-f2de-297ed52ad501",
        "id": "vVS2QxdokhLj"
      },
      "execution_count": null,
      "outputs": [
        {
          "output_type": "execute_result",
          "data": {
            "text/plain": [
              "15915629.42430145"
            ]
          },
          "metadata": {},
          "execution_count": 22
        }
      ]
    },
    {
      "cell_type": "code",
      "source": [
        "#Definindo o tamanho dos gráficos\n",
        "fig, axs = plt.subplots(1, 2, figsize=(12, 4))\n",
        "\n",
        "#Gráfico de Histograma\n",
        "axs[0].hist(diamonds['Preço'], color='skyblue', edgecolor='black')\n",
        "axs[0].set_title('Histograma do Peso dos Diamantes')\n",
        "axs[0].set_xlabel('Preço')\n",
        "axs[0].set_ylabel('Frequência')\n",
        "\n",
        "#Box Plot\n",
        "axs[1].boxplot(diamonds['Preço'], patch_artist=True, notch=True, vert=False, boxprops=dict(facecolor='lightgreen'))\n",
        "axs[1].set_title('Boxplot do Preço dos Diamantes')\n",
        "axs[1].set_xlabel('Preço')\n",
        "\n",
        "#Ajustar o layout\n",
        "plt.tight_layout()\n",
        "\n",
        "#Plotando o gráfico\n",
        "plt.show()"
      ],
      "metadata": {
        "colab": {
          "base_uri": "https://localhost:8080/",
          "height": 407
        },
        "outputId": "25ef912f-c660-4389-918d-0dad1e6ed52b",
        "id": "7Ed5HpcTkhLj"
      },
      "execution_count": null,
      "outputs": [
        {
          "output_type": "display_data",
          "data": {
            "text/plain": [
              "<Figure size 1200x400 with 2 Axes>"
            ],
            "image/png": "[encoded data removed]"
          },
          "metadata": {}
        }
      ]
    },
    {
      "cell_type": "code",
      "source": [
        "#Calculando a assimetria\n",
        "diamonds['Preço'].skew()"
      ],
      "metadata": {
        "colab": {
          "base_uri": "https://localhost:8080/"
        },
        "id": "AhxGO-kzmKNP",
        "outputId": "c4cbb53f-59ec-42e8-ff49-9ef36c554fc8"
      },
      "execution_count": null,
      "outputs": [
        {
          "output_type": "execute_result",
          "data": {
            "text/plain": [
              "1.618395283383529"
            ]
          },
          "metadata": {},
          "execution_count": 24
        }
      ]
    },
    {
      "cell_type": "code",
      "source": [
        "#Gráfico de distribuição\n",
        "sns.displot(diamonds['Preço'], kde=True)"
      ],
      "metadata": {
        "colab": {
          "base_uri": "https://localhost:8080/",
          "height": 523
        },
        "id": "TeioGBgem8bd",
        "outputId": "38a4ce2e-8d0b-440e-c654-e7e70009dd39"
      },
      "execution_count": null,
      "outputs": [
        {
          "output_type": "execute_result",
          "data": {
            "text/plain": [
              "<seaborn.axisgrid.FacetGrid at 0x79db95807970>"
            ]
          },
          "metadata": {},
          "execution_count": 25
        },
        {
          "output_type": "display_data",
          "data": {
            "text/plain": [
              "<Figure size 500x500 with 1 Axes>"
            ],
            "image/png": "[encoded data removed]"
          },
          "metadata": {}
        }
      ]
    },
    {
      "cell_type": "markdown",
      "source": [
        "Conclusão:\n",
        "\n",
        "Podemos observar que o preço médio dos diamantes é de aproximadamente 3932,80, com um desvio padrão de aproximadamente 3989,44. A distribuição dos preços dos diamantes parece ser assimétrica e fortemente positiva, como evidenciado pelo coeficiente de assimetria de 1,618. Isso indica uma cauda mais longa à direita na distribuição dos preços. O menor preço observado é 326, enquanto o maior preço é 18.823. A mediana do preço é de 2.401, e o quartil de 25% é de 950, enquanto o quartil de 75% é de 5.324, sugerindo uma distribuição com uma grande variabilidade nos preços.\n",
        "\n",
        "Ao observar o gráfico de boxplot, notamos a presença de muitos outliers nos valores de preço, indicando uma dispersão significativa dos dados. A moda do preço dos diamantes é de 605, o que significa que este é o valor mais frequente."
      ],
      "metadata": {
        "id": "fYNr581GkhLj"
      }
    },
    {
      "cell_type": "markdown",
      "source": [
        "# Análise Exploratória Multivariada"
      ],
      "metadata": {
        "id": "3p0BVrS9m17L"
      }
    },
    {
      "cell_type": "markdown",
      "source": [
        "Vamos explorar a relação entre as variáveis Peso e Preço, através da correlaçã e a covariância."
      ],
      "metadata": {
        "id": "r5ylBjyrnkbd"
      }
    },
    {
      "cell_type": "code",
      "source": [
        "correlation = diamonds['Peso'].corr(diamonds['Preço'])\n",
        "covariance = diamonds['Peso'].cov(diamonds['Preço'])\n",
        "\n",
        "print(\"Correlação entre Peso e Preço:\", correlation)\n",
        "print(\"Covariância entre Peso e Preço:\", covariance)"
      ],
      "metadata": {
        "colab": {
          "base_uri": "https://localhost:8080/"
        },
        "id": "o8KaE7ckm2C_",
        "outputId": "df5bd81e-7a9f-4c1d-db95-f97eb4070049"
      },
      "execution_count": null,
      "outputs": [
        {
          "output_type": "stream",
          "name": "stdout",
          "text": [
            "Correlação entre Peso e Preço: 0.9215913011934771\n",
            "Covariância entre Peso e Preço: 1742.7653642651187\n"
          ]
        }
      ]
    },
    {
      "cell_type": "code",
      "source": [
        "diamonds.plot(x='Peso', y='Preço', kind='scatter')"
      ],
      "metadata": {
        "colab": {
          "base_uri": "https://localhost:8080/",
          "height": 466
        },
        "id": "te6O-BbZo_XX",
        "outputId": "cf7dcbc3-fc42-47e7-cf70-daa34ad34875"
      },
      "execution_count": null,
      "outputs": [
        {
          "output_type": "execute_result",
          "data": {
            "text/plain": [
              "<Axes: xlabel='Peso', ylabel='Preço'>"
            ]
          },
          "metadata": {},
          "execution_count": 27
        },
        {
          "output_type": "display_data",
          "data": {
            "text/plain": [
              "<Figure size 640x480 with 1 Axes>"
            ],
            "image/png": "[encoded data removed]"
          },
          "metadata": {}
        }
      ]
    },
    {
      "cell_type": "markdown",
      "source": [
        "Conclusão:\n",
        "\n",
        "A correlação entre o peso e o preço dos diamantes é de aproximadamente 0,922, o que indica uma forte correlação positiva entre essas duas variáveis. Isso significa que, em geral, quanto maior o peso do diamante, maior será o preço, e vice-versa.\n",
        "\n",
        "Já a covariância entre o peso e o preço é de aproximadamente 1742,77. Isso sugere uma relação linear positiva entre as duas variáveis, o que é consistente com a alta correlação positiva observada. Uma covariância positiva indica que, em média, quando uma variável aumenta, a outra também tende a aumentar.\n",
        "\n",
        "Esses resultados sugerem que o peso é um fator importante na determinação do preço de um diamante, e há uma relação forte e positiva entre essas duas variáveis."
      ],
      "metadata": {
        "id": "TEwALcNPorkS"
      }
    },
    {
      "cell_type": "markdown",
      "source": [
        "# Probabilidades\n",
        "\n",
        "Nesse tópico, iremos calcular as probabilidades condicionais para diferentes combinações de preço e peso de diamantes."
      ],
      "metadata": {
        "id": "8ZBJPWp9swzq"
      }
    },
    {
      "cell_type": "code",
      "source": [
        "#Identificamos os preços e pesos mais comuns no dataset\n",
        "preco_mais_comum = diamonds['Preço'].mode()[0]\n",
        "peso_mais_comum = diamonds['Peso'].mode()[0]\n",
        "\n",
        "def prob_peso_dado_preco(preco, peso):\n",
        "    #Filtrando os diamantes com o preço especificado\n",
        "    diamonds_preco = diamonds[diamonds['Preço'] == preco]\n",
        "    #Cálculo da probabilidade condicional do peso dado o preço\n",
        "    prob_condicional = len(diamonds_preco[diamonds_preco['Peso'] == peso]) / len(diamonds_preco)\n",
        "    return prob_condicional\n",
        "\n",
        "#Cálculo da probabilidade condicional\n",
        "probabilidade_condicional = prob_peso_dado_preco(preco_mais_comum, peso_mais_comum)\n",
        "print(f\"Probabilidade condicional para preço de {preco_mais_comum} e peso de {peso_mais_comum} quilates é de {probabilidade_condicional:.2f}\")"
      ],
      "metadata": {
        "colab": {
          "base_uri": "https://localhost:8080/"
        },
        "id": "Sn8pmGpcqr40",
        "outputId": "35ea62b8-95b1-49a4-a572-6c39b5d26639"
      },
      "execution_count": null,
      "outputs": [
        {
          "output_type": "stream",
          "name": "stdout",
          "text": [
            "Probabilidade condicional para preço de 605 e peso de 0.3 quilates é de 0.89\n"
          ]
        }
      ]
    },
    {
      "cell_type": "markdown",
      "source": [
        "Conclusão:\n",
        "\n",
        "A análise de probabilidade condicional entre preço e peso dos diamantes revelou uma forte relação entre essas variáveis."
      ],
      "metadata": {
        "id": "XEKAhlI5tx1r"
      }
    },
    {
      "cell_type": "markdown",
      "source": [
        "# Teste de Hipótese\n",
        "\n"
      ],
      "metadata": {
        "id": "KXfAqow7umX_"
      }
    },
    {
      "cell_type": "markdown",
      "source": [
        "Agora vamos tentar responder ao nosso questionamento inicial:\n",
        "\n",
        "###Quanto maior mais caro?"
      ],
      "metadata": {
        "id": "GczBewyPu2Ps"
      }
    },
    {
      "cell_type": "code",
      "source": [
        "#Calcular a correlação entre peso e preço\n",
        "correlation, p_value = pearsonr(diamonds['Peso'], diamonds['Preço'])\n",
        "\n",
        "#Interpretar os resultados do teste de hipótese\n",
        "alpha = 0.05  #Nível de significância\n",
        "if p_value < alpha:\n",
        "    print(f\"A correlação entre peso e preço é estatisticamente significativa (p-value = {p_value:.4f}).\")\n",
        "    print(\"Isso sugere que há uma relação significativa entre peso e preço dos diamantes.\")\n",
        "else:\n",
        "    print(f\"A correlação entre peso e preço não é estatisticamente significativa (p-value = {p_value:.4f}).\")\n",
        "    print(\"Isso sugere que não há uma relação significativa entre peso e preço dos diamantes.\")\n",
        "\n",
        "#Exibir o valor da correlação\n",
        "print(f\"Correlação entre peso e preço: {correlation:.4f}\")"
      ],
      "metadata": {
        "colab": {
          "base_uri": "https://localhost:8080/"
        },
        "id": "JTlvMXoeuVr2",
        "outputId": "a3b69741-acdd-429c-abf5-1597f3f3dc07"
      },
      "execution_count": null,
      "outputs": [
        {
          "output_type": "stream",
          "name": "stdout",
          "text": [
            "A correlação entre peso e preço é estatisticamente significativa (p-value = 0.0000).\n",
            "Isso sugere que há uma relação significativa entre peso e preço dos diamantes.\n",
            "Correlação entre peso e preço: 0.9216\n"
          ]
        }
      ]
    },
    {
      "cell_type": "markdown",
      "source": [
        "Conclusão:\n",
        "\n",
        "Com um valor-p extremamente baixo (p-value = 0.0000), podemos afirmar que a correlação entre peso e preço dos diamantes é estatisticamente significativa. A alta correlação positiva de 0.9216 indica que há uma relação forte e positiva entre o peso e o preço dos diamantes. Ou seja, a medida que o peso dos diamantes aumenta, seus preços tendem a aumentar. Este resultado fornece uma base estatística robusta para confirmar a hipótese de que quanto maior o peso, maior o preço dos diamantes."
      ],
      "metadata": {
        "id": "jsikA-bdvctR"
      }
    },
    {
      "cell_type": "markdown",
      "source": [
        "# Análises adicionais"
      ],
      "metadata": {
        "id": "TVq9T8_ov2Pp"
      }
    },
    {
      "cell_type": "markdown",
      "source": [
        "Separando em dois dataframes, um com os itens mais \"nobres\" e o outro com os itens menores atraentes."
      ],
      "metadata": {
        "id": "W9wJeVuLw3XX"
      }
    },
    {
      "cell_type": "code",
      "source": [
        "#Criando o dataframe com os itens mais simples\n",
        "diamonds_basicos = diamonds[((diamonds['Corte'] == 'Good') | (diamonds['Corte'] == 'Fair')) &\n",
        "                                  ((diamonds['Clareza'] == 'SI1') | (diamonds['Clareza'] == 'SI2')) &\n",
        "                                  ((diamonds['Cor'] == 'I') | (diamonds['Cor'] == 'J'))]\n",
        "\n",
        "#Criando o dataframe com os itens mais top\n",
        "diamonds_top = diamonds[~(((diamonds['Corte'] == 'Good') | (diamonds['Corte'] == 'Fair')) &\n",
        "                        ((diamonds['Clareza'] == 'SI1') | (diamonds['Clareza'] == 'SI2')) &\n",
        "                        ((diamonds['Cor'] == 'I') | (diamonds['Cor'] == 'J')))]\n"
      ],
      "metadata": {
        "id": "xzEF1CBiw9QU"
      },
      "execution_count": null,
      "outputs": []
    },
    {
      "cell_type": "code",
      "source": [
        "#Calcular a correlação entre peso e preço\n",
        "correlation, p_value = pearsonr(diamonds_basicos['Peso'], diamonds_basicos['Preço'])\n",
        "\n",
        "#Interpretar os resultados do teste de hipótese\n",
        "alpha = 0.05  #Nível de significância\n",
        "if p_value < alpha:\n",
        "    print(f\"A correlação entre peso e preço é estatisticamente significativa (p-value = {p_value:.4f}).\")\n",
        "    print(\"Isso sugere que há uma relação significativa entre peso e preço dos diamantes.\")\n",
        "else:\n",
        "    print(f\"A correlação entre peso e preço não é estatisticamente significativa (p-value = {p_value:.4f}).\")\n",
        "    print(\"Isso sugere que não há uma relação significativa entre peso e preço dos diamantes.\")\n",
        "\n",
        "#Exibir o valor da correlação\n",
        "print(f\"Correlação entre peso e preço: {correlation:.4f}\")"
      ],
      "metadata": {
        "colab": {
          "base_uri": "https://localhost:8080/"
        },
        "id": "VSG3hd1KxZDD",
        "outputId": "431ac54e-45ac-4e32-809a-28d1c5f98d37"
      },
      "execution_count": null,
      "outputs": [
        {
          "output_type": "stream",
          "name": "stdout",
          "text": [
            "A correlação entre peso e preço é estatisticamente significativa (p-value = 0.0000).\n",
            "Isso sugere que há uma relação significativa entre peso e preço dos diamantes.\n",
            "Correlação entre peso e preço: 0.9566\n"
          ]
        }
      ]
    },
    {
      "cell_type": "code",
      "source": [
        "#Calcular a correlação entre peso e preço\n",
        "correlation, p_value = pearsonr(diamonds_top['Peso'], diamonds_top['Preço'])\n",
        "\n",
        "#Interpretar os resultados do teste de hipótese\n",
        "alpha = 0.05  #Nível de significância\n",
        "if p_value < alpha:\n",
        "    print(f\"A correlação entre peso e preço é estatisticamente significativa (p-value = {p_value:.4f}).\")\n",
        "    print(\"Isso sugere que há uma relação significativa entre peso e preço dos diamantes.\")\n",
        "else:\n",
        "    print(f\"A correlação entre peso e preço não é estatisticamente significativa (p-value = {p_value:.4f}).\")\n",
        "    print(\"Isso sugere que não há uma relação significativa entre peso e preço dos diamantes.\")\n",
        "\n",
        "#Exibir o valor da correlação\n",
        "print(f\"Correlação entre peso e preço: {correlation:.4f}\")"
      ],
      "metadata": {
        "colab": {
          "base_uri": "https://localhost:8080/"
        },
        "id": "8OOKNxKjxZFy",
        "outputId": "6172523c-074c-4868-a4c9-b87ad6be75a4"
      },
      "execution_count": null,
      "outputs": [
        {
          "output_type": "stream",
          "name": "stdout",
          "text": [
            "A correlação entre peso e preço é estatisticamente significativa (p-value = 0.0000).\n",
            "Isso sugere que há uma relação significativa entre peso e preço dos diamantes.\n",
            "Correlação entre peso e preço: 0.9222\n"
          ]
        }
      ]
    },
    {
      "cell_type": "markdown",
      "source": [
        "Conclusão:\n",
        "\n",
        " Podemos concluir que houve pouca variação na correlação entre peso e preço nos testes realizados nos DataFrames \"básico\" e \"top\". Embora os valores de correlação tenham sido ligeiramente diferentes entre os DataFrames, a diferença não foi significativa. Isso indica que, independentemente das características dos diamantes, a relação entre o peso e o preço é consistentemente forte e positiva.\n",
        "\n",
        " Portanto, a correlação entre peso e preço dos diamantes parece ser robusta e estável, não importando as características específicas dos diamantes considerados."
      ],
      "metadata": {
        "id": "wCZA1zdHx3M2"
      }
    },
    {
      "cell_type": "markdown",
      "source": [
        "# Desafio Bônus\n",
        "\n",
        "Criar um código no qual o usuário informe o valor que deseja gastar, bem como a cor e o tipo de corte desejado para um diamante. O programa então busca na base de dados por uma combinação correspondente. Se encontrar, retorna o peso médio do diamante para a solicitação."
      ],
      "metadata": {
        "id": "CiG_A8-MNMtj"
      }
    },
    {
      "cell_type": "code",
      "source": [
        "from sklearn.preprocessing import LabelEncoder\n",
        "\n",
        "# Função para obter as opções válidas de cores\n",
        "def obter_opcoes_cores():\n",
        "    cores_validas = ['D', 'E', 'F', 'G', 'H', 'I', 'J']\n",
        "    return ', '.join(cores_validas)\n",
        "\n",
        "# Função para mapear os índices numéricos de cores de volta para as letras correspondentes\n",
        "def mapear_indices_cores(cores_indices):\n",
        "    cor_indices = {0: 'D', 1: 'E', 2: 'F', 3: 'G', 4: 'H', 5: 'I', 6: 'J'}\n",
        "    return [cor_indices.get(i) for i in cores_indices]\n",
        "\n",
        "# Função para verificar as cores disponíveis para uma combinação de preço e corte\n",
        "def verificar_cores_disponiveis(preco, corte):\n",
        "    diamonds_filtrados = diamonds_copy[\n",
        "        (diamonds_copy['Preço'] >= preco - margem_tolerancia) &\n",
        "        (diamonds_copy['Preço'] <= preco + margem_tolerancia) &\n",
        "        (diamonds_copy['Corte'] == corte)\n",
        "    ]\n",
        "    if not diamonds_filtrados.empty:\n",
        "        cores_disponiveis = diamonds_filtrados['Cor'].unique()\n",
        "        return cores_disponiveis\n",
        "    else:\n",
        "        return None\n",
        "\n",
        "# Solicitar ao usuário o preço desejado\n",
        "while True:\n",
        "    preco_desejado = float(input(\"Digite o preço desejado (entre 300 e 18000): \"))\n",
        "    if 300 <= preco_desejado <= 18000:\n",
        "        break\n",
        "    else:\n",
        "        print(\"Por favor, digite um preço dentro do intervalo de 300 a 18000.\")\n",
        "\n",
        "# Solicitar ao usuário o corte desejado\n",
        "corte_desejado = input(\"Digite o corte desejado (Fair, Good, Very Good, Premium, Ideal): \").lower()\n",
        "\n",
        "# Solicitar ao usuário a cor desejada\n",
        "while True:\n",
        "    cor_desejada = input(f\"Digite a cor desejada ({obter_opcoes_cores()}): \").upper()\n",
        "    if cor_desejada in obter_opcoes_cores().split(', '):\n",
        "        break\n",
        "    else:\n",
        "        print(\"Por favor, digite uma cor válida.\")\n",
        "\n",
        "# Transformar o corte em um índice numérico\n",
        "corte_indices = {'fair': 0, 'good': 1, 'very good': 2, 'premium': 3, 'ideal': 4}\n",
        "indice_corte = corte_indices.get(corte_desejado)\n",
        "\n",
        "# Transformar a cor em um índice numérico\n",
        "cor_indices = {'D': 0, 'E': 1, 'F': 2, 'G': 3, 'H': 4, 'I': 5, 'J': 6}\n",
        "indice_cor = cor_indices.get(cor_desejada)\n",
        "\n",
        "if indice_corte is None:\n",
        "    print(\"Por favor, escolha um corte válido.\")\n",
        "elif indice_cor is None:\n",
        "    print(\"Por favor, escolha uma cor válida.\")\n",
        "else:\n",
        "    # Criar uma cópia do DataFrame diamonds para não modificar o original\n",
        "    diamonds_copy = diamonds.copy()\n",
        "\n",
        "    # Definir a margem de tolerância como 10% do preço desejado\n",
        "    margem_tolerancia = preco_desejado * 0.1\n",
        "\n",
        "    # Instanciar o LabelEncoder\n",
        "    label_encoder = LabelEncoder()\n",
        "\n",
        "    # Ajustar e transformar as colunas 'Corte' e 'Cor' em índices numéricos\n",
        "    diamonds_copy['Corte'] = label_encoder.fit_transform(diamonds_copy['Corte'])\n",
        "    diamonds_copy['Cor'] = label_encoder.fit_transform(diamonds_copy['Cor'])\n",
        "\n",
        "    # Filtrar o DataFrame para obter apenas as linhas com o preço aproximado, corte e cor desejados\n",
        "    diamonds_filtrados = diamonds_copy[\n",
        "        (diamonds_copy['Preço'] >= preco_desejado - margem_tolerancia) &\n",
        "        (diamonds_copy['Preço'] <= preco_desejado + margem_tolerancia) &\n",
        "        (diamonds_copy['Corte'] == indice_corte) &\n",
        "        (diamonds_copy['Cor'] == indice_cor)\n",
        "    ]\n",
        "\n",
        "    # Verificar se há linhas filtradas\n",
        "    if not diamonds_filtrados.empty:\n",
        "        # Calcular o peso médio dos diamantes filtrados\n",
        "        peso_previsto = diamonds_filtrados['Peso'].mean()\n",
        "\n",
        "        # Exibir o peso previsto do diamante\n",
        "        print(\"Peso previsto do diamante:\", peso_previsto)\n",
        "    else:\n",
        "        # Verificar as cores disponíveis para essa combinação de preço e corte\n",
        "        cores_disponiveis = verificar_cores_disponiveis(preco_desejado, indice_corte)\n",
        "\n",
        "        if cores_disponiveis is not None:\n",
        "            cores_disponiveis_letras = mapear_indices_cores(cores_disponiveis)\n",
        "            print(\"Não foram encontrados diamantes com o preço, corte e cor desejados.\")\n",
        "            print(\"Cores disponíveis para essa combinação:\", cores_disponiveis_letras)\n",
        "        else:\n",
        "            print(\"Não foram encontrados diamantes com o preço, corte e cor desejados.\")\n",
        "\n",
        "\n"
      ],
      "metadata": {
        "colab": {
          "base_uri": "https://localhost:8080/"
        },
        "id": "hcTYtiZjCXxU",
        "outputId": "e2f83c19-b599-4301-b937-d25209e8d57e"
      },
      "execution_count": null,
      "outputs": [
        {
          "output_type": "stream",
          "name": "stdout",
          "text": [
            "Digite o preço desejado (entre 300 e 18000): 1000\n",
            "Digite o corte desejado (Fair, Good, Very Good, Premium, Ideal): ideal\n",
            "Digite a cor desejada (D, E, F, G, H, I, J): e\n",
            "Peso previsto do diamante: 0.4024778761061947\n"
          ]
        }
      ]
    }
  ]
}